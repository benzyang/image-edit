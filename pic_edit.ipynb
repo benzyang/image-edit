{
 "cells": [
  {
   "cell_type": "code",
   "execution_count": 12,
   "metadata": {},
   "outputs": [
    {
     "data": {
      "text/plain": [
       "'f:\\\\8 Pro\\\\Pictures\\\\Choose\\\\wlop'"
      ]
     },
     "execution_count": 12,
     "metadata": {},
     "output_type": "execute_result"
    }
   ],
   "source": [
    "import os\n",
    "from PIL import Image\n",
    "\n",
    "# 当前目录\n",
    "current_path = os.getcwd()\n",
    "# 新建目录\n",
    "os.makedirs(\"comp\", exist_ok=True)\n",
    "current_path"
   ]
  },
  {
   "cell_type": "markdown",
   "metadata": {},
   "source": [
    "png to jpg, compress"
   ]
  },
  {
   "cell_type": "code",
   "execution_count": 11,
   "metadata": {},
   "outputs": [],
   "source": [
    "def png2jpg(png_path, jpg_path):\n",
    "    image = Image.open(png_path)\n",
    "    quality=95\n",
    "    # 将 PNG 图像转换为 RGB 模式\n",
    "    if image.mode != 'RGB':\n",
    "        image = image.convert('RGB')\n",
    "\n",
    "    while True:\n",
    "        image.save(jpg_path, 'JPEG', optimize=True, quality=quality)\n",
    "        file_size = os.path.getsize(jpg_path) / (1024 * 1024)\n",
    "        # 2mb < 图片大小 < 6mb\n",
    "        if file_size < 2:\n",
    "            quality += 1\n",
    "            if quality > 100:\n",
    "                break\n",
    "        elif file_size < 6:\n",
    "            break\n",
    "        quality -= 1\n",
    "\n",
    "        if quality <= 70:\n",
    "            break"
   ]
  },
  {
   "cell_type": "markdown",
   "metadata": {},
   "source": [
    "jpg compress"
   ]
  },
  {
   "cell_type": "code",
   "execution_count": null,
   "metadata": {},
   "outputs": [],
   "source": [
    "def jpgcompress(input_path, output_path):\n",
    "    \"\"\"\n",
    "    压缩图片函数\n",
    "    :param input_path: 输入图片路径\n",
    "    :param output_path: 输出压缩后的图片路径\n",
    "    \"\"\"\n",
    "    image = Image.open(input_path)\n",
    "    quality = 99  # 初始压缩质量为99\n",
    "    while True:\n",
    "        image.save(output_path, optimize=True, quality=quality)\n",
    "        file_size = os.path.getsize(output_path) / (1024 * 1024)  # 压缩后文件大小，单位为MB\n",
    "        # 2mb < 图片大小 < 6mb\n",
    "        if file_size < 2:\n",
    "            quality += 1\n",
    "            if quality > 100:\n",
    "                break\n",
    "        elif file_size < 6:\n",
    "            break\n",
    "        quality -= 1\n",
    "\n",
    "        if quality <= 60:\n",
    "            break"
   ]
  },
  {
   "cell_type": "code",
   "execution_count": 10,
   "metadata": {},
   "outputs": [],
   "source": [
    "for pic in os.listdir(current_path):\n",
    "    if pic.endswith('.png'):\n",
    "        png_path = os.path.join(current_path, pic)\n",
    "        jpg_path = os.path.join(current_path, 'comp', f'{pic[:-3]}jpg')\n",
    "        png2jpg(png_path, jpg_path)\n",
    "        # os.remove(png_path)\n",
    "    elif pic.endswith('.jpg'):\n",
    "        input_path = os.path.join(current_path, pic)\n",
    "        output_path = os.path.join(current_path, 'comp', pic)\n",
    "        jpgcompress(input_path, output_path)\n",
    "        # os.remove(input_path)"
   ]
  },
  {
   "cell_type": "markdown",
   "metadata": {},
   "source": [
    "add name in the front"
   ]
  },
  {
   "cell_type": "code",
   "execution_count": 19,
   "metadata": {},
   "outputs": [
    {
     "name": "stdout",
     "output_type": "stream",
     "text": [
      "f:\\8 Pro\\Pictures\\Choose\\wlop\\comp\n"
     ]
    }
   ],
   "source": [
    "comp_path = os.path.join(current_path, 'comp')\n",
    "print(comp_path)\n",
    "\n",
    "for pic in os.listdir(comp_path):\n",
    "    if pic.endswith((\".jpg\", '.png')):\n",
    "        # print(pic)\n",
    "        new_filename = \"wlop_\" + pic\n",
    "        # print(new_filename)\n",
    "        os.rename(os.path.join(comp_path, pic), os.path.join(comp_path, new_filename))"
   ]
  }
 ],
 "metadata": {
  "kernelspec": {
   "display_name": "gptac",
   "language": "python",
   "name": "python3"
  },
  "language_info": {
   "codemirror_mode": {
    "name": "ipython",
    "version": 3
   },
   "file_extension": ".py",
   "mimetype": "text/x-python",
   "name": "python",
   "nbconvert_exporter": "python",
   "pygments_lexer": "ipython3",
   "version": "3.11.2"
  },
  "orig_nbformat": 4
 },
 "nbformat": 4,
 "nbformat_minor": 2
}
